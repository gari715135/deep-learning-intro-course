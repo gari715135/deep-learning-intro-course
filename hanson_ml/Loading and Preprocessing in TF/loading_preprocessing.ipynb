{
 "cells": [
  {
   "cell_type": "code",
   "execution_count": 1,
   "metadata": {},
   "outputs": [],
   "source": [
    "# extra code – fetches, splits and normalizes the California housing dataset\n",
    "\n",
    "from sklearn.datasets import fetch_california_housing\n",
    "from sklearn.model_selection import train_test_split\n",
    "\n",
    "housing = fetch_california_housing()\n"
   ]
  },
  {
   "cell_type": "code",
   "execution_count": 6,
   "metadata": {},
   "outputs": [
    {
     "name": "stdout",
     "output_type": "stream",
     "text": [
      "Downloading data from https://storage.googleapis.com/tensorflow/tf-keras-datasets/california_housing.npz\n",
      "\u001b[1m743530/743530\u001b[0m \u001b[32m━━━━━━━━━━━━━━━━━━━━\u001b[0m\u001b[37m\u001b[0m \u001b[1m0s\u001b[0m 0us/step\n"
     ]
    },
    {
     "data": {
      "text/plain": [
       "((array([[-118.27  ,   34.09  ,   52.    , ..., 1048.    ,  491.    ,\n",
       "             3.7847],\n",
       "         [-118.36  ,   33.96  ,   21.    , ..., 1286.    ,  557.    ,\n",
       "             2.7284],\n",
       "         [-122.39  ,   37.76  ,   52.    , ...,  712.    ,  398.    ,\n",
       "             3.9722],\n",
       "         ...,\n",
       "         [-122.34  ,   37.57  ,   52.    , ...,  876.    ,  359.    ,\n",
       "             8.2598],\n",
       "         [-122.18  ,   37.89  ,   18.    , ..., 1634.    ,  734.    ,\n",
       "             8.1489],\n",
       "         [-118.43  ,   34.2   ,   29.    , ..., 1942.    ,  679.    ,\n",
       "             3.1118]], dtype=float32),\n",
       "  array([252300., 146900., 290900., ..., 500001., 499000., 238100.],\n",
       "        dtype=float32)),\n",
       " (array([[-118.36  ,   34.08  ,   45.    , ..., 1265.    ,  455.    ,\n",
       "             3.3864],\n",
       "         [-120.2   ,   34.63  ,   14.    , ..., 1487.    ,  488.    ,\n",
       "             4.4519],\n",
       "         [-121.21  ,   37.81  ,    8.    , ...,  999.    ,  301.    ,\n",
       "             5.193 ],\n",
       "         ...,\n",
       "         [-121.29  ,   37.97  ,   52.    , ..., 1392.    ,  503.    ,\n",
       "             1.7794],\n",
       "         [-118.31  ,   34.04  ,   52.    , ...,  954.    ,  334.    ,\n",
       "             2.5833],\n",
       "         [-117.23  ,   32.86  ,   16.    , ...,  648.    ,  443.    ,\n",
       "             3.045 ]], dtype=float32),\n",
       "  array([397900., 227900., 172100., ...,  98800., 234600., 100000.],\n",
       "        dtype=float32)))"
      ]
     },
     "execution_count": 6,
     "metadata": {},
     "output_type": "execute_result"
    }
   ],
   "source": [
    "import tensorflow as tf\n",
    "\n",
    "tf.keras.datasets.california_housing.load_data(\n",
    "    version='large',\n",
    "    path='california_housing.npz',\n",
    "    test_split=0.2,\n",
    "    seed=113\n",
    ")"
   ]
  },
  {
   "cell_type": "code",
   "execution_count": 3,
   "metadata": {},
   "outputs": [],
   "source": [
    "X_train_full, X_test, y_train_full, y_test = train_test_split(\n",
    "    housing.data, housing.target.reshape(-1, 1), random_state=42)\n",
    "X_train, X_valid, y_train, y_valid = train_test_split(\n",
    "    X_train_full, y_train_full, random_state=42)\n"
   ]
  },
  {
   "cell_type": "code",
   "execution_count": 4,
   "metadata": {},
   "outputs": [],
   "source": [
    "import numpy as np\n",
    "from pathlib import Path\n",
    "\n",
    "def save_to_csv_files(data, name_prefix, header=None, n_parts=10):\n",
    "    housing_dir = Path() / \"datasets\" / \"housing\"\n",
    "    housing_dir.mkdir(parents=True, exist_ok=True)\n",
    "    filename_format = \"my_{}_{:02d}.csv\"\n",
    "\n",
    "    filepaths = []\n",
    "    m = len(data)\n",
    "    chunks = np.array_split(np.arange(m), n_parts)\n",
    "    for file_idx, row_indices in enumerate(chunks):\n",
    "        part_csv = housing_dir / filename_format.format(name_prefix, file_idx)\n",
    "        filepaths.append(str(part_csv))\n",
    "        with open(part_csv, \"w\") as f:\n",
    "            if header is not None:\n",
    "                f.write(header)\n",
    "                f.write(\"\\n\")\n",
    "            for row_idx in row_indices:\n",
    "                f.write(\",\".join([repr(col) for col in data[row_idx]]))\n",
    "                f.write(\"\\n\")\n",
    "    return filepaths\n",
    "\n",
    "train_data = np.c_[X_train, y_train]\n",
    "valid_data = np.c_[X_valid, y_valid]\n",
    "test_data = np.c_[X_test, y_test]\n",
    "header_cols = housing.feature_names + [\"MedianHouseValue\"]\n",
    "header = \",\".join(header_cols)\n",
    "\n",
    "train_filepaths = save_to_csv_files(train_data, \"train\", header, n_parts=20)\n",
    "valid_filepaths = save_to_csv_files(valid_data, \"valid\", header, n_parts=10)\n",
    "test_filepaths = save_to_csv_files(test_data, \"test\", header, n_parts=10)\n"
   ]
  },
  {
   "cell_type": "code",
   "execution_count": 5,
   "metadata": {},
   "outputs": [
    {
     "data": {
      "text/plain": [
       "PosixPath('datasets/housing')"
      ]
     },
     "execution_count": 5,
     "metadata": {},
     "output_type": "execute_result"
    }
   ],
   "source": [
    "housing_dir = Path() / \"datasets\" / \"housing\"\n",
    "housing_dir"
   ]
  },
  {
   "cell_type": "code",
   "execution_count": null,
   "metadata": {},
   "outputs": [],
   "source": []
  }
 ],
 "metadata": {
  "kernelspec": {
   "display_name": "deep-learning-intro-course",
   "language": "python",
   "name": "python3"
  },
  "language_info": {
   "codemirror_mode": {
    "name": "ipython",
    "version": 3
   },
   "file_extension": ".py",
   "mimetype": "text/x-python",
   "name": "python",
   "nbconvert_exporter": "python",
   "pygments_lexer": "ipython3",
   "version": "3.11.9"
  }
 },
 "nbformat": 4,
 "nbformat_minor": 2
}
