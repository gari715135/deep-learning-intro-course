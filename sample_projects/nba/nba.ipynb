{
 "cells": [
  {
   "cell_type": "code",
   "execution_count": 1,
   "metadata": {
    "execution": {
     "iopub.execute_input": "2024-05-24T00:30:49.996217Z",
     "iopub.status.busy": "2024-05-24T00:30:49.993911Z",
     "iopub.status.idle": "2024-05-24T00:30:50.177384Z",
     "shell.execute_reply": "2024-05-24T00:30:50.176975Z",
     "shell.execute_reply.started": "2024-05-24T00:30:49.996141Z"
    }
   },
   "outputs": [
    {
     "name": "stdout",
     "output_type": "stream",
     "text": [
      "data found local\n"
     ]
    }
   ],
   "source": [
    "import os\n",
    "import pandas as pd\n",
    "from nba_api.stats.static import teams\n",
    "from nba_api.stats.endpoints import leaguegamefinder\n",
    "from nba_api.stats.library.parameters import *\n",
    "import src.utils as utils\n",
    "import tensorflow as tf\n",
    "from tensorflow.keras.models import Model\n",
    "from tensorflow.keras.layers import Input, Dense, Concatenate, Normalization\n",
    "from sklearn.model_selection import train_test_split\n",
    "import matplotlib.pyplot as plt\n",
    "\n",
    "\n",
    "nba_teams = teams.get_teams()\n",
    "fp_team = \"./data/all_games.parquet.gzip\"\n",
    "\n",
    "if not os.path.exists(fp_team):\n",
    "    print(\"data not found\")\n",
    "    all_games = pd.DataFrame()\n",
    "\n",
    "    for team in nba_teams:\n",
    "        team_id = team.get(\"id\")\n",
    "        gamefinder = leaguegamefinder.LeagueGameFinder(\n",
    "            team_id_nullable=team_id,\n",
    "            league_id_nullable=LeagueIDNullable().nba,\n",
    "            season_type_nullable=SeasonType().regular,\n",
    "        )\n",
    "\n",
    "        team_games = gamefinder.get_data_frames()[0]\n",
    "        all_games = pd.concat([all_games, team_games])\n",
    "    all_games.to_parquet(fp_team, index=False)\n",
    "else:\n",
    "    print(\"data found local\")\n",
    "    all_games = pd.read_parquet(fp_team)\n",
    "\n",
    "franchise_founding_dates = {team[\"id\"]: team[\"year_founded\"] for team in nba_teams}\n",
    "\n",
    "all_games[\"GAME_DATE\"] = pd.to_datetime(all_games[\"GAME_DATE\"])\n",
    "all_games = all_games.sort_values([\"GAME_DATE\", \"GAME_ID\"]).reset_index(drop=True)\n",
    "\n",
    "# Apply the function to calculate plus-minus\n",
    "all_games = utils.calculate_plus_minus(all_games)\n",
    "all_games[\"DAYS_SINCE_LAST_GAME\"] = (\n",
    "    all_games.groupby([\"SEASON_ID\", \"TEAM_ID\"])[\"GAME_DATE\"].diff().dt.days\n",
    ")\n",
    "\n",
    "all_games = utils.calculate_head_to_head(all_games)\n",
    "all_games = utils.calculate_recent_performance(all_games, windows=[3, 10])\n",
    "all_games = utils.calculate_home_away_splits(all_games)\n",
    "all_games = utils.calculate_rest_days(all_games)\n",
    "all_games = utils.calculate_franchise_age(all_games, franchise_founding_dates)\n",
    "all_games = utils.calculate_cumulative_season_performance(all_games)"
   ]
  },
  {
   "cell_type": "code",
   "execution_count": 3,
   "metadata": {
    "execution": {
     "iopub.execute_input": "2024-05-24T00:07:58.316369Z",
     "iopub.status.busy": "2024-05-24T00:07:58.315966Z",
     "iopub.status.idle": "2024-05-24T00:07:58.434604Z",
     "shell.execute_reply": "2024-05-24T00:07:58.434333Z",
     "shell.execute_reply.started": "2024-05-24T00:07:58.316340Z"
    }
   },
   "outputs": [],
   "source": [
    "# Define the features and targets\n",
    "data = all_games.copy()\n",
    "\n",
    "target_win = \"WL\"\n",
    "target_plus_minus = \"PLUS_MINUS\"\n",
    "\n",
    "# Convert WL to boolean\n",
    "data[target_win] = data[target_win].apply(lambda x: 1 if x=='W' else 0)\n",
    "\n",
    "# Define meta columns that are not features\n",
    "meta_cols = [\n",
    "    \"SEASON_ID\",\n",
    "    \"TEAM_ID\",\n",
    "    \"TEAM_ABBREVIATION\",\n",
    "    \"TEAM_NAME\",\n",
    "    \"GAME_ID\",\n",
    "    \"GAME_DATE\",\n",
    "    \"MATCHUP\",\n",
    "    \"HOME_GAME\"\n",
    "]\n",
    "\n",
    "# Define the feature columns\n",
    "feature_cols = [col for col in data.columns if col not in [target_win, target_plus_minus] + meta_cols]\n",
    "\n",
    "# Separate home and away features\n",
    "home_games = data[data[\"HOME_GAME\"]].set_index(\"GAME_ID\")\n",
    "away_games = data[~data[\"HOME_GAME\"]].set_index(\"GAME_ID\")\n",
    "\n",
    "# Ensure the indices (GAME_ID) are aligned\n",
    "home_games = home_games.loc[home_games.index.isin(away_games.index)]\n",
    "away_games = away_games.loc[home_games.index]\n",
    "\n",
    "# Features for home and away teams\n",
    "home_features = home_games[feature_cols]\n",
    "away_features = away_games[feature_cols]\n",
    "\n",
    "# Targets for home games\n",
    "home_targets = home_games[[target_win, target_plus_minus]].shift(-1).dropna()\n",
    "\n",
    "# Split the data into training and testing sets while keeping the index for correspondence\n",
    "X_home_train, X_home_test, y_home_train, y_home_test = train_test_split(home_features.iloc[1:], home_targets, test_size=0.2, random_state=42)\n",
    "X_away_train, X_away_test = away_features.loc[X_home_train.index], away_features.loc[X_home_test.index]\n",
    "\n",
    "tf.keras.backend.clear_session()\n",
    "\n",
    "# Normalize the input features\n",
    "normalizer_home = Normalization(axis=-1)\n",
    "normalizer_home.adapt(X_home_train.to_numpy())\n",
    "\n",
    "normalizer_away = Normalization(axis=-1)\n",
    "normalizer_away.adapt(X_away_train.to_numpy())\n",
    "\n",
    "# Define model inputs\n",
    "home_input = Input(shape=(len(X_home_train.columns),), name=\"home_input\")\n",
    "away_input = Input(shape=(len(X_away_train.columns),), name=\"away_input\")\n",
    "\n",
    "# Apply normalization\n",
    "norm_home = normalizer_home(home_input)\n",
    "norm_away = normalizer_away(away_input)\n",
    "\n",
    "# Concatenate the inputs\n",
    "concatenated = Concatenate()([norm_home, norm_away])\n",
    "\n",
    "# Define the rest of the model\n",
    "dense1 = Dense(128, activation='relu')(concatenated)\n",
    "dense2 = Dense(64, activation='relu')(dense1)\n",
    "dense3 = Dense(32, activation='relu')(dense2)\n",
    "dense4 = Dense(16, activation='relu')(dense3)\n",
    "\n",
    "# Output layer for binary classification (Home win or not)\n",
    "output_home_win = Dense(1, activation='sigmoid', name=\"home_win\")(dense4)\n",
    "\n",
    "# Output layer for regression (Point difference)\n",
    "output_point_diff = Dense(1, name=\"point_diff\")(dense4)\n",
    "\n",
    "# Create the model\n",
    "model = Model(inputs=[home_input, away_input], outputs=[output_home_win, output_point_diff])\n",
    "\n",
    "# Compile the model\n",
    "model.compile(optimizer='adam',\n",
    "              loss={'home_win': 'binary_crossentropy', 'point_diff': 'mean_squared_error'},\n",
    "              metrics={'home_win': 'accuracy', 'point_diff': 'mse'})"
   ]
  },
  {
   "cell_type": "code",
   "execution_count": 5,
   "metadata": {},
   "outputs": [
    {
     "data": {
      "text/plain": [
       "Index(['MIN', 'PTS', 'FGM', 'FGA', 'FG_PCT', 'FG3M', 'FG3A', 'FG3_PCT', 'FTM',\n",
       "       'FTA', 'FT_PCT', 'OREB', 'DREB', 'REB', 'AST', 'STL', 'BLK', 'TOV',\n",
       "       'PF', 'DAYS_SINCE_LAST_GAME', 'HEAD_TO_HEAD_HOME_WINS',\n",
       "       'HEAD_TO_HEAD_AWAY_WINS', 'AVG_3_GAME_PERFORMANCE', 'WIN_PCT_3_GAMES',\n",
       "       'AVG_10_GAME_PERFORMANCE', 'WIN_PCT_10_GAMES', 'HOME_PLUS_MINUS',\n",
       "       'HOME_WIN_PCT', 'AWAY_PLUS_MINUS', 'AWAY_WIN_PCT', 'REST_DAYS',\n",
       "       'FRANCHISE_AGE', 'CUMULATIVE_SEASON_PLUS_MINUS',\n",
       "       'CUMULATIVE_SEASON_WINS', 'CUMULATIVE_SEASON_LOSSES'],\n",
       "      dtype='object')"
      ]
     },
     "execution_count": 5,
     "metadata": {},
     "output_type": "execute_result"
    }
   ],
   "source": [
    "X_home_train.columns"
   ]
  },
  {
   "cell_type": "code",
   "execution_count": 5,
   "metadata": {},
   "outputs": [
    {
     "name": "stdout",
     "output_type": "stream",
     "text": [
      "Epoch 1/20\n",
      "\u001b[1m1167/1167\u001b[0m \u001b[32m━━━━━━━━━━━━━━━━━━━━\u001b[0m\u001b[37m\u001b[0m \u001b[1m1s\u001b[0m 644us/step - home_win_accuracy: 0.3945 - loss: nan - point_diff_mse: nan - val_home_win_accuracy: 0.3988 - val_loss: nan - val_point_diff_mse: nan\n",
      "Epoch 2/20\n",
      "\u001b[1m1167/1167\u001b[0m \u001b[32m━━━━━━━━━━━━━━━━━━━━\u001b[0m\u001b[37m\u001b[0m \u001b[1m1s\u001b[0m 543us/step - home_win_accuracy: 0.3964 - loss: nan - point_diff_mse: nan - val_home_win_accuracy: 0.3988 - val_loss: nan - val_point_diff_mse: nan\n",
      "Epoch 3/20\n",
      "\u001b[1m1167/1167\u001b[0m \u001b[32m━━━━━━━━━━━━━━━━━━━━\u001b[0m\u001b[37m\u001b[0m \u001b[1m1s\u001b[0m 565us/step - home_win_accuracy: 0.3988 - loss: nan - point_diff_mse: nan - val_home_win_accuracy: 0.3988 - val_loss: nan - val_point_diff_mse: nan\n",
      "Epoch 4/20\n",
      "\u001b[1m1167/1167\u001b[0m \u001b[32m━━━━━━━━━━━━━━━━━━━━\u001b[0m\u001b[37m\u001b[0m \u001b[1m1s\u001b[0m 567us/step - home_win_accuracy: 0.3979 - loss: nan - point_diff_mse: nan - val_home_win_accuracy: 0.3988 - val_loss: nan - val_point_diff_mse: nan\n",
      "Epoch 5/20\n",
      "\u001b[1m1167/1167\u001b[0m \u001b[32m━━━━━━━━━━━━━━━━━━━━\u001b[0m\u001b[37m\u001b[0m \u001b[1m1s\u001b[0m 554us/step - home_win_accuracy: 0.3964 - loss: nan - point_diff_mse: nan - val_home_win_accuracy: 0.3988 - val_loss: nan - val_point_diff_mse: nan\n",
      "Epoch 6/20\n",
      "\u001b[1m1167/1167\u001b[0m \u001b[32m━━━━━━━━━━━━━━━━━━━━\u001b[0m\u001b[37m\u001b[0m \u001b[1m1s\u001b[0m 555us/step - home_win_accuracy: 0.3996 - loss: nan - point_diff_mse: nan - val_home_win_accuracy: 0.3988 - val_loss: nan - val_point_diff_mse: nan\n",
      "Epoch 7/20\n",
      "\u001b[1m1167/1167\u001b[0m \u001b[32m━━━━━━━━━━━━━━━━━━━━\u001b[0m\u001b[37m\u001b[0m \u001b[1m1s\u001b[0m 542us/step - home_win_accuracy: 0.3943 - loss: nan - point_diff_mse: nan - val_home_win_accuracy: 0.3988 - val_loss: nan - val_point_diff_mse: nan\n",
      "Epoch 8/20\n",
      "\u001b[1m1167/1167\u001b[0m \u001b[32m━━━━━━━━━━━━━━━━━━━━\u001b[0m\u001b[37m\u001b[0m \u001b[1m1s\u001b[0m 569us/step - home_win_accuracy: 0.3980 - loss: nan - point_diff_mse: nan - val_home_win_accuracy: 0.3988 - val_loss: nan - val_point_diff_mse: nan\n",
      "Epoch 9/20\n",
      "\u001b[1m 105/1167\u001b[0m \u001b[32m━\u001b[0m\u001b[37m━━━━━━━━━━━━━━━━━━━\u001b[0m \u001b[1m0s\u001b[0m 484us/step - home_win_accuracy: 0.3932 - loss: nan - point_diff_mse: nan"
     ]
    },
    {
     "ename": "KeyboardInterrupt",
     "evalue": "",
     "output_type": "error",
     "traceback": [
      "\u001b[0;31m---------------------------------------------------------------------------\u001b[0m",
      "\u001b[0;31mKeyboardInterrupt\u001b[0m                         Traceback (most recent call last)",
      "Cell \u001b[0;32mIn[5], line 2\u001b[0m\n\u001b[1;32m      1\u001b[0m \u001b[38;5;66;03m# Train the model\u001b[39;00m\n\u001b[0;32m----> 2\u001b[0m history \u001b[38;5;241m=\u001b[39m \u001b[43mmodel\u001b[49m\u001b[38;5;241;43m.\u001b[39;49m\u001b[43mfit\u001b[49m\u001b[43m(\u001b[49m\n\u001b[1;32m      3\u001b[0m \u001b[43m    \u001b[49m\u001b[43m[\u001b[49m\u001b[43mX_home_train\u001b[49m\u001b[43m,\u001b[49m\u001b[43m \u001b[49m\u001b[43mX_away_train\u001b[49m\u001b[43m]\u001b[49m\u001b[43m,\u001b[49m\u001b[43m \u001b[49m\n\u001b[1;32m      4\u001b[0m \u001b[43m    \u001b[49m\u001b[43m{\u001b[49m\u001b[38;5;124;43m'\u001b[39;49m\u001b[38;5;124;43mhome_win\u001b[39;49m\u001b[38;5;124;43m'\u001b[39;49m\u001b[43m:\u001b[49m\u001b[43m \u001b[49m\u001b[43my_home_train\u001b[49m\u001b[43m[\u001b[49m\u001b[43mtarget_win\u001b[49m\u001b[43m]\u001b[49m\u001b[43m,\u001b[49m\u001b[43m \u001b[49m\u001b[38;5;124;43m'\u001b[39;49m\u001b[38;5;124;43mpoint_diff\u001b[39;49m\u001b[38;5;124;43m'\u001b[39;49m\u001b[43m:\u001b[49m\u001b[43m \u001b[49m\u001b[43my_home_train\u001b[49m\u001b[43m[\u001b[49m\u001b[43mtarget_plus_minus\u001b[49m\u001b[43m]\u001b[49m\u001b[43m}\u001b[49m\u001b[43m,\u001b[49m\n\u001b[1;32m      5\u001b[0m \u001b[43m    \u001b[49m\u001b[43mvalidation_data\u001b[49m\u001b[38;5;241;43m=\u001b[39;49m\u001b[43m(\u001b[49m\u001b[43m[\u001b[49m\u001b[43mX_home_test\u001b[49m\u001b[43m,\u001b[49m\u001b[43m \u001b[49m\u001b[43mX_away_test\u001b[49m\u001b[43m]\u001b[49m\u001b[43m,\u001b[49m\u001b[43m \u001b[49m\n\u001b[1;32m      6\u001b[0m \u001b[43m                     \u001b[49m\u001b[43m{\u001b[49m\u001b[38;5;124;43m'\u001b[39;49m\u001b[38;5;124;43mhome_win\u001b[39;49m\u001b[38;5;124;43m'\u001b[39;49m\u001b[43m:\u001b[49m\u001b[43m \u001b[49m\u001b[43my_home_test\u001b[49m\u001b[43m[\u001b[49m\u001b[43mtarget_win\u001b[49m\u001b[43m]\u001b[49m\u001b[43m,\u001b[49m\u001b[43m \u001b[49m\u001b[38;5;124;43m'\u001b[39;49m\u001b[38;5;124;43mpoint_diff\u001b[39;49m\u001b[38;5;124;43m'\u001b[39;49m\u001b[43m:\u001b[49m\u001b[43m \u001b[49m\u001b[43my_home_test\u001b[49m\u001b[43m[\u001b[49m\u001b[43mtarget_plus_minus\u001b[49m\u001b[43m]\u001b[49m\u001b[43m}\u001b[49m\u001b[43m)\u001b[49m\u001b[43m,\u001b[49m\n\u001b[1;32m      7\u001b[0m \u001b[43m    \u001b[49m\u001b[43mepochs\u001b[49m\u001b[38;5;241;43m=\u001b[39;49m\u001b[38;5;241;43m20\u001b[39;49m\u001b[43m,\u001b[49m\n\u001b[1;32m      8\u001b[0m \u001b[43m    \u001b[49m\u001b[43mbatch_size\u001b[49m\u001b[38;5;241;43m=\u001b[39;49m\u001b[38;5;241;43m32\u001b[39;49m\n\u001b[1;32m      9\u001b[0m \u001b[43m)\u001b[49m\n\u001b[1;32m     11\u001b[0m \u001b[38;5;66;03m# Save the model\u001b[39;00m\n\u001b[1;32m     12\u001b[0m model\u001b[38;5;241m.\u001b[39msave(\u001b[38;5;124m'\u001b[39m\u001b[38;5;124mhome_away_model.h5\u001b[39m\u001b[38;5;124m'\u001b[39m)\n",
      "File \u001b[0;32m/opt/anaconda3/envs/deep-learning-intro-course/lib/python3.11/site-packages/keras/src/utils/traceback_utils.py:117\u001b[0m, in \u001b[0;36mfilter_traceback.<locals>.error_handler\u001b[0;34m(*args, **kwargs)\u001b[0m\n\u001b[1;32m    115\u001b[0m filtered_tb \u001b[38;5;241m=\u001b[39m \u001b[38;5;28;01mNone\u001b[39;00m\n\u001b[1;32m    116\u001b[0m \u001b[38;5;28;01mtry\u001b[39;00m:\n\u001b[0;32m--> 117\u001b[0m     \u001b[38;5;28;01mreturn\u001b[39;00m \u001b[43mfn\u001b[49m\u001b[43m(\u001b[49m\u001b[38;5;241;43m*\u001b[39;49m\u001b[43margs\u001b[49m\u001b[43m,\u001b[49m\u001b[43m \u001b[49m\u001b[38;5;241;43m*\u001b[39;49m\u001b[38;5;241;43m*\u001b[39;49m\u001b[43mkwargs\u001b[49m\u001b[43m)\u001b[49m\n\u001b[1;32m    118\u001b[0m \u001b[38;5;28;01mexcept\u001b[39;00m \u001b[38;5;167;01mException\u001b[39;00m \u001b[38;5;28;01mas\u001b[39;00m e:\n\u001b[1;32m    119\u001b[0m     filtered_tb \u001b[38;5;241m=\u001b[39m _process_traceback_frames(e\u001b[38;5;241m.\u001b[39m__traceback__)\n",
      "File \u001b[0;32m/opt/anaconda3/envs/deep-learning-intro-course/lib/python3.11/site-packages/keras/src/backend/tensorflow/trainer.py:316\u001b[0m, in \u001b[0;36mTensorFlowTrainer.fit\u001b[0;34m(self, x, y, batch_size, epochs, verbose, callbacks, validation_split, validation_data, shuffle, class_weight, sample_weight, initial_epoch, steps_per_epoch, validation_steps, validation_batch_size, validation_freq)\u001b[0m\n\u001b[1;32m    314\u001b[0m logs \u001b[38;5;241m=\u001b[39m \u001b[38;5;28mself\u001b[39m\u001b[38;5;241m.\u001b[39mtrain_function(iterator)\n\u001b[1;32m    315\u001b[0m logs \u001b[38;5;241m=\u001b[39m \u001b[38;5;28mself\u001b[39m\u001b[38;5;241m.\u001b[39m_pythonify_logs(logs)\n\u001b[0;32m--> 316\u001b[0m \u001b[43mcallbacks\u001b[49m\u001b[38;5;241;43m.\u001b[39;49m\u001b[43mon_train_batch_end\u001b[49m\u001b[43m(\u001b[49m\u001b[43mstep\u001b[49m\u001b[43m,\u001b[49m\u001b[43m \u001b[49m\u001b[43mlogs\u001b[49m\u001b[43m)\u001b[49m\n\u001b[1;32m    317\u001b[0m \u001b[38;5;28;01mif\u001b[39;00m \u001b[38;5;28mself\u001b[39m\u001b[38;5;241m.\u001b[39mstop_training:\n\u001b[1;32m    318\u001b[0m     \u001b[38;5;28;01mbreak\u001b[39;00m\n",
      "File \u001b[0;32m/opt/anaconda3/envs/deep-learning-intro-course/lib/python3.11/site-packages/keras/src/callbacks/callback_list.py:106\u001b[0m, in \u001b[0;36mCallbackList.on_train_batch_end\u001b[0;34m(self, batch, logs)\u001b[0m\n\u001b[1;32m    104\u001b[0m logs \u001b[38;5;241m=\u001b[39m logs \u001b[38;5;129;01mor\u001b[39;00m {}\n\u001b[1;32m    105\u001b[0m \u001b[38;5;28;01mfor\u001b[39;00m callback \u001b[38;5;129;01min\u001b[39;00m \u001b[38;5;28mself\u001b[39m\u001b[38;5;241m.\u001b[39mcallbacks:\n\u001b[0;32m--> 106\u001b[0m     \u001b[43mcallback\u001b[49m\u001b[38;5;241;43m.\u001b[39;49m\u001b[43mon_train_batch_end\u001b[49m\u001b[43m(\u001b[49m\u001b[43mbatch\u001b[49m\u001b[43m,\u001b[49m\u001b[43m \u001b[49m\u001b[43mlogs\u001b[49m\u001b[38;5;241;43m=\u001b[39;49m\u001b[43mlogs\u001b[49m\u001b[43m)\u001b[49m\n",
      "File \u001b[0;32m/opt/anaconda3/envs/deep-learning-intro-course/lib/python3.11/site-packages/keras/src/callbacks/progbar_logger.py:58\u001b[0m, in \u001b[0;36mProgbarLogger.on_train_batch_end\u001b[0;34m(self, batch, logs)\u001b[0m\n\u001b[1;32m     57\u001b[0m \u001b[38;5;28;01mdef\u001b[39;00m \u001b[38;5;21mon_train_batch_end\u001b[39m(\u001b[38;5;28mself\u001b[39m, batch, logs\u001b[38;5;241m=\u001b[39m\u001b[38;5;28;01mNone\u001b[39;00m):\n\u001b[0;32m---> 58\u001b[0m     \u001b[38;5;28;43mself\u001b[39;49m\u001b[38;5;241;43m.\u001b[39;49m\u001b[43m_update_progbar\u001b[49m\u001b[43m(\u001b[49m\u001b[43mbatch\u001b[49m\u001b[43m,\u001b[49m\u001b[43m \u001b[49m\u001b[43mlogs\u001b[49m\u001b[43m)\u001b[49m\n",
      "File \u001b[0;32m/opt/anaconda3/envs/deep-learning-intro-course/lib/python3.11/site-packages/keras/src/callbacks/progbar_logger.py:95\u001b[0m, in \u001b[0;36mProgbarLogger._update_progbar\u001b[0;34m(self, batch, logs)\u001b[0m\n\u001b[1;32m     92\u001b[0m \u001b[38;5;28mself\u001b[39m\u001b[38;5;241m.\u001b[39mseen \u001b[38;5;241m=\u001b[39m batch \u001b[38;5;241m+\u001b[39m \u001b[38;5;241m1\u001b[39m  \u001b[38;5;66;03m# One-indexed.\u001b[39;00m\n\u001b[1;32m     94\u001b[0m \u001b[38;5;28;01mif\u001b[39;00m \u001b[38;5;28mself\u001b[39m\u001b[38;5;241m.\u001b[39mverbose \u001b[38;5;241m==\u001b[39m \u001b[38;5;241m1\u001b[39m:\n\u001b[0;32m---> 95\u001b[0m     \u001b[38;5;28;43mself\u001b[39;49m\u001b[38;5;241;43m.\u001b[39;49m\u001b[43mprogbar\u001b[49m\u001b[38;5;241;43m.\u001b[39;49m\u001b[43mupdate\u001b[49m\u001b[43m(\u001b[49m\u001b[38;5;28;43mself\u001b[39;49m\u001b[38;5;241;43m.\u001b[39;49m\u001b[43mseen\u001b[49m\u001b[43m,\u001b[49m\u001b[43m \u001b[49m\u001b[38;5;28;43mlist\u001b[39;49m\u001b[43m(\u001b[49m\u001b[43mlogs\u001b[49m\u001b[38;5;241;43m.\u001b[39;49m\u001b[43mitems\u001b[49m\u001b[43m(\u001b[49m\u001b[43m)\u001b[49m\u001b[43m)\u001b[49m\u001b[43m,\u001b[49m\u001b[43m \u001b[49m\u001b[43mfinalize\u001b[49m\u001b[38;5;241;43m=\u001b[39;49m\u001b[38;5;28;43;01mFalse\u001b[39;49;00m\u001b[43m)\u001b[49m\n",
      "File \u001b[0;32m/opt/anaconda3/envs/deep-learning-intro-course/lib/python3.11/site-packages/keras/src/utils/progbar.py:182\u001b[0m, in \u001b[0;36mProgbar.update\u001b[0;34m(self, current, values, finalize)\u001b[0m\n\u001b[1;32m    179\u001b[0m \u001b[38;5;28;01mif\u001b[39;00m finalize:\n\u001b[1;32m    180\u001b[0m     message \u001b[38;5;241m+\u001b[39m\u001b[38;5;241m=\u001b[39m \u001b[38;5;124m\"\u001b[39m\u001b[38;5;130;01m\\n\u001b[39;00m\u001b[38;5;124m\"\u001b[39m\n\u001b[0;32m--> 182\u001b[0m \u001b[43mio_utils\u001b[49m\u001b[38;5;241;43m.\u001b[39;49m\u001b[43mprint_msg\u001b[49m\u001b[43m(\u001b[49m\u001b[43mmessage\u001b[49m\u001b[43m,\u001b[49m\u001b[43m \u001b[49m\u001b[43mline_break\u001b[49m\u001b[38;5;241;43m=\u001b[39;49m\u001b[38;5;28;43;01mFalse\u001b[39;49;00m\u001b[43m)\u001b[49m\n\u001b[1;32m    183\u001b[0m \u001b[38;5;28mself\u001b[39m\u001b[38;5;241m.\u001b[39m_prev_total_width \u001b[38;5;241m=\u001b[39m total_width\n\u001b[1;32m    184\u001b[0m message \u001b[38;5;241m=\u001b[39m \u001b[38;5;124m\"\u001b[39m\u001b[38;5;124m\"\u001b[39m\n",
      "File \u001b[0;32m/opt/anaconda3/envs/deep-learning-intro-course/lib/python3.11/site-packages/keras/src/utils/io_utils.py:98\u001b[0m, in \u001b[0;36mprint_msg\u001b[0;34m(message, line_break)\u001b[0m\n\u001b[1;32m     96\u001b[0m         sys\u001b[38;5;241m.\u001b[39mstdout\u001b[38;5;241m.\u001b[39mwrite(message \u001b[38;5;241m+\u001b[39m \u001b[38;5;124m\"\u001b[39m\u001b[38;5;130;01m\\n\u001b[39;00m\u001b[38;5;124m\"\u001b[39m)\n\u001b[1;32m     97\u001b[0m     \u001b[38;5;28;01melse\u001b[39;00m:\n\u001b[0;32m---> 98\u001b[0m         \u001b[43msys\u001b[49m\u001b[38;5;241;43m.\u001b[39;49m\u001b[43mstdout\u001b[49m\u001b[38;5;241;43m.\u001b[39;49m\u001b[43mwrite\u001b[49m\u001b[43m(\u001b[49m\u001b[43mmessage\u001b[49m\u001b[43m)\u001b[49m\n\u001b[1;32m     99\u001b[0m     sys\u001b[38;5;241m.\u001b[39mstdout\u001b[38;5;241m.\u001b[39mflush()\n\u001b[1;32m    100\u001b[0m \u001b[38;5;28;01melse\u001b[39;00m:\n",
      "File \u001b[0;32m/opt/anaconda3/envs/deep-learning-intro-course/lib/python3.11/site-packages/ipykernel/iostream.py:694\u001b[0m, in \u001b[0;36mOutStream.write\u001b[0;34m(self, string)\u001b[0m\n\u001b[1;32m    692\u001b[0m     \u001b[38;5;28mself\u001b[39m\u001b[38;5;241m.\u001b[39mpub_thread\u001b[38;5;241m.\u001b[39mschedule(\u001b[38;5;28mself\u001b[39m\u001b[38;5;241m.\u001b[39m_flush)\n\u001b[1;32m    693\u001b[0m \u001b[38;5;28;01melse\u001b[39;00m:\n\u001b[0;32m--> 694\u001b[0m     \u001b[38;5;28;43mself\u001b[39;49m\u001b[38;5;241;43m.\u001b[39;49m\u001b[43m_schedule_flush\u001b[49m\u001b[43m(\u001b[49m\u001b[43m)\u001b[49m\n\u001b[1;32m    696\u001b[0m \u001b[38;5;28;01mreturn\u001b[39;00m \u001b[38;5;28mlen\u001b[39m(string)\n",
      "File \u001b[0;32m/opt/anaconda3/envs/deep-learning-intro-course/lib/python3.11/site-packages/ipykernel/iostream.py:590\u001b[0m, in \u001b[0;36mOutStream._schedule_flush\u001b[0;34m(self)\u001b[0m\n\u001b[1;32m    587\u001b[0m \u001b[38;5;28;01mdef\u001b[39;00m \u001b[38;5;21m_schedule_in_thread\u001b[39m():\n\u001b[1;32m    588\u001b[0m     \u001b[38;5;28mself\u001b[39m\u001b[38;5;241m.\u001b[39m_io_loop\u001b[38;5;241m.\u001b[39mcall_later(\u001b[38;5;28mself\u001b[39m\u001b[38;5;241m.\u001b[39mflush_interval, \u001b[38;5;28mself\u001b[39m\u001b[38;5;241m.\u001b[39m_flush)\n\u001b[0;32m--> 590\u001b[0m \u001b[38;5;28;43mself\u001b[39;49m\u001b[38;5;241;43m.\u001b[39;49m\u001b[43mpub_thread\u001b[49m\u001b[38;5;241;43m.\u001b[39;49m\u001b[43mschedule\u001b[49m\u001b[43m(\u001b[49m\u001b[43m_schedule_in_thread\u001b[49m\u001b[43m)\u001b[49m\n",
      "File \u001b[0;32m/opt/anaconda3/envs/deep-learning-intro-course/lib/python3.11/site-packages/ipykernel/iostream.py:267\u001b[0m, in \u001b[0;36mIOPubThread.schedule\u001b[0;34m(self, f)\u001b[0m\n\u001b[1;32m    265\u001b[0m     \u001b[38;5;28mself\u001b[39m\u001b[38;5;241m.\u001b[39m_events\u001b[38;5;241m.\u001b[39mappend(f)\n\u001b[1;32m    266\u001b[0m     \u001b[38;5;66;03m# wake event thread (message content is ignored)\u001b[39;00m\n\u001b[0;32m--> 267\u001b[0m     \u001b[38;5;28;43mself\u001b[39;49m\u001b[38;5;241;43m.\u001b[39;49m\u001b[43m_event_pipe\u001b[49m\u001b[38;5;241;43m.\u001b[39;49m\u001b[43msend\u001b[49m\u001b[43m(\u001b[49m\u001b[38;5;124;43mb\u001b[39;49m\u001b[38;5;124;43m\"\u001b[39;49m\u001b[38;5;124;43m\"\u001b[39;49m\u001b[43m)\u001b[49m\n\u001b[1;32m    268\u001b[0m \u001b[38;5;28;01melse\u001b[39;00m:\n\u001b[1;32m    269\u001b[0m     f()\n",
      "File \u001b[0;32m/opt/anaconda3/envs/deep-learning-intro-course/lib/python3.11/site-packages/zmq/sugar/socket.py:701\u001b[0m, in \u001b[0;36mSocket.send\u001b[0;34m(self, data, flags, copy, track, routing_id, group)\u001b[0m\n\u001b[1;32m    694\u001b[0m         data \u001b[38;5;241m=\u001b[39m zmq\u001b[38;5;241m.\u001b[39mFrame(\n\u001b[1;32m    695\u001b[0m             data,\n\u001b[1;32m    696\u001b[0m             track\u001b[38;5;241m=\u001b[39mtrack,\n\u001b[1;32m    697\u001b[0m             copy\u001b[38;5;241m=\u001b[39mcopy \u001b[38;5;129;01mor\u001b[39;00m \u001b[38;5;28;01mNone\u001b[39;00m,\n\u001b[1;32m    698\u001b[0m             copy_threshold\u001b[38;5;241m=\u001b[39m\u001b[38;5;28mself\u001b[39m\u001b[38;5;241m.\u001b[39mcopy_threshold,\n\u001b[1;32m    699\u001b[0m         )\n\u001b[1;32m    700\u001b[0m     data\u001b[38;5;241m.\u001b[39mgroup \u001b[38;5;241m=\u001b[39m group\n\u001b[0;32m--> 701\u001b[0m \u001b[38;5;28;01mreturn\u001b[39;00m \u001b[38;5;28;43msuper\u001b[39;49m\u001b[43m(\u001b[49m\u001b[43m)\u001b[49m\u001b[38;5;241;43m.\u001b[39;49m\u001b[43msend\u001b[49m\u001b[43m(\u001b[49m\u001b[43mdata\u001b[49m\u001b[43m,\u001b[49m\u001b[43m \u001b[49m\u001b[43mflags\u001b[49m\u001b[38;5;241;43m=\u001b[39;49m\u001b[43mflags\u001b[49m\u001b[43m,\u001b[49m\u001b[43m \u001b[49m\u001b[43mcopy\u001b[49m\u001b[38;5;241;43m=\u001b[39;49m\u001b[43mcopy\u001b[49m\u001b[43m,\u001b[49m\u001b[43m \u001b[49m\u001b[43mtrack\u001b[49m\u001b[38;5;241;43m=\u001b[39;49m\u001b[43mtrack\u001b[49m\u001b[43m)\u001b[49m\n",
      "File \u001b[0;32m_zmq.py:1073\u001b[0m, in \u001b[0;36mzmq.backend.cython._zmq.Socket.send\u001b[0;34m()\u001b[0m\n",
      "File \u001b[0;32m_zmq.py:1121\u001b[0m, in \u001b[0;36mzmq.backend.cython._zmq.Socket.send\u001b[0;34m()\u001b[0m\n",
      "File \u001b[0;32m_zmq.py:1320\u001b[0m, in \u001b[0;36mzmq.backend.cython._zmq._send_copy\u001b[0;34m()\u001b[0m\n",
      "File \u001b[0;32m_zmq.py:141\u001b[0m, in \u001b[0;36mzmq.backend.cython._zmq._check_rc\u001b[0;34m()\u001b[0m\n",
      "\u001b[0;31mKeyboardInterrupt\u001b[0m: "
     ]
    }
   ],
   "source": [
    "# Train the model\n",
    "history = model.fit(\n",
    "    [X_home_train, X_away_train], \n",
    "    {'home_win': y_home_train[target_win], 'point_diff': y_home_train[target_plus_minus]},\n",
    "    validation_data=([X_home_test, X_away_test], \n",
    "                     {'home_win': y_home_test[target_win], 'point_diff': y_home_test[target_plus_minus]}),\n",
    "    epochs=20,\n",
    "    batch_size=32\n",
    ")\n",
    "\n",
    "# Save the model\n",
    "model.save('home_away_model.h5')\n",
    "\n",
    "# Evaluate the model\n",
    "results = model.evaluate([X_home_test, X_away_test], \n",
    "                         {'home_win': y_home_test[target_win], 'point_diff': y_home_test[target_plus_minus]})\n",
    "\n",
    "print(\"Test Loss, Test Accuracy, Test MSE:\", results)\n",
    "\n",
    "# Plot training history\n",
    "def plot_history(history):\n",
    "    plt.figure(figsize=(12, 6))\n",
    "\n",
    "    plt.subplot(1, 2, 1)\n",
    "    plt.plot(history.history['home_win_accuracy'], label='Home Win Accuracy')\n",
    "    plt.plot(history.history['val_home_win_accuracy'], label='Val Home Win Accuracy')\n",
    "    plt.title('Home Win Accuracy')\n",
    "    plt.xlabel('Epochs')\n",
    "    plt.ylabel('Accuracy')\n",
    "    plt.legend()\n",
    "\n",
    "    plt.subplot(1, 2, 2)\n",
    "    plt.plot(history.history['point_diff_mse'], label='Point Difference rmse')\n",
    "    plt.plot(history.history['val_point_diff_mse'], label='Val Point Difference rmse')\n",
    "    plt.title('Point Difference Mean Squared Error')\n",
    "    plt.xlabel('Epochs')\n",
    "    plt.ylabel('rmse')\n",
    "    plt.legend()\n",
    "\n",
    "    plt.show()\n",
    "\n",
    "plot_history(history)"
   ]
  },
  {
   "cell_type": "code",
   "execution_count": 9,
   "metadata": {},
   "outputs": [
    {
     "data": {
      "image/png": "[encoded data removed]",
      "text/plain": [
       "<Figure size 640x480 with 1 Axes>"
      ]
     },
     "metadata": {},
     "output_type": "display_data"
    }
   ],
   "source": [
    "import seaborn as sns\n",
    "sns.boxplot(data=y_home_train)\n",
    "plt.show()"
   ]
  },
  {
   "cell_type": "code",
   "execution_count": 3,
   "metadata": {
    "execution": {
     "iopub.execute_input": "2024-05-24T00:07:50.679696Z",
     "iopub.status.busy": "2024-05-24T00:07:50.679203Z",
     "iopub.status.idle": "2024-05-24T00:07:50.767510Z",
     "shell.execute_reply": "2024-05-24T00:07:50.767199Z",
     "shell.execute_reply.started": "2024-05-24T00:07:50.679663Z"
    }
   },
   "outputs": [
    {
     "name": "stdout",
     "output_type": "stream",
     "text": [
      "Identical columns: ['PLUS_MINUS']\n",
      "Identical or Opposite Boolean columns: ['WL', 'HOME_GAME']\n"
     ]
    }
   ],
   "source": [
    "def find_identical_or_oposite_columns(df1, df2):\n",
    "    # Find columns that exist in both data frames\n",
    "    common_columns = set(df1.columns).intersection(set(df2.columns))\n",
    "    \n",
    "    identical_columns = []\n",
    "    \n",
    "    for col in common_columns:\n",
    "        if df1[col].equals(df2[col]):\n",
    "            identical_columns.append(col)\n",
    "        elif df1[col].dtype == 'bool' and df2[col].dtype == 'bool' and df1[col].equals(~df2[col]):\n",
    "            identical_columns.append(col)\n",
    "    \n",
    "    return identical_columns\n",
    "\n",
    "fx = all_games.copy()\n",
    "fx['WL'] = fx['WL'].apply(lambda x: x == 'W')\n",
    "hom = fx.loc[all_games['HOME_GAME']].set_index(\"GAME_ID\")\n",
    "awy = fx.loc[~all_games['HOME_GAME']].set_index(\"GAME_ID\")\n",
    "\n",
    "identical_columns = find_identical_or_oposite_columns(hom.select_dtypes('number').abs(), awy.select_dtypes('number').abs())\n",
    "print(\"Identical columns:\", identical_columns)\n",
    "\n",
    "# Checking boolean columns\n",
    "identical_boolean_columns = find_identical_or_oposite_columns(hom.select_dtypes('bool'), awy.select_dtypes('bool'))\n",
    "print(\"Identical or Opposite Boolean columns:\", identical_boolean_columns)\n",
    "\n",
    "del fx, hom, awy, identical_columns, identical_boolean_columns"
   ]
  }
 ],
 "metadata": {
  "kernelspec": {
   "display_name": "Python 3 (ipykernel)",
   "language": "python",
   "name": "python3"
  },
  "language_info": {
   "codemirror_mode": {
    "name": "ipython",
    "version": 3
   },
   "file_extension": ".py",
   "mimetype": "text/x-python",
   "name": "python",
   "nbconvert_exporter": "python",
   "pygments_lexer": "ipython3",
   "version": "3.11.9"
  }
 },
 "nbformat": 4,
 "nbformat_minor": 4
}
