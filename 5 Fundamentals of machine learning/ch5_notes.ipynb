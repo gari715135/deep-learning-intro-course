{
 "cells": [
  {
   "cell_type": "markdown",
   "metadata": {},
   "source": [
    "# 5.1 Generalization"
   ]
  },
  {
   "cell_type": "code",
   "execution_count": null,
   "metadata": {},
   "outputs": [
    {
     "ename": "",
     "evalue": "",
     "output_type": "error",
     "traceback": [
      "\u001b[1;31mThe kernel failed to start as the Python Environment '.venv (Python 3.11.9)' is no longer available. Consider selecting another kernel or refreshing the list of Python Environments."
     ]
    }
   ],
   "source": [
    "import numpy as np\n",
    "import tensorflow as tf\n",
    "import matplotlib.pyplot as plt\n",
    "\n",
    "(train_images, train_labels), (test_images, test_labels) = (\n",
    "    tf.keras.datasets.mnist.load_data(path=\"mnist.npz\")\n",
    ")\n",
    "\n",
    "train_images = train_images.reshape(\n",
    "    train_images.shape[0], train_images.shape[1] * train_images.shape[2]\n",
    ")\n",
    "train_images = train_images.astype(\"float32\") / 255\n",
    "\n",
    "train_images_with_noise_channels = np.concatenate(\n",
    "    [train_images, np.random.random((len(train_images), 784))], axis=1\n",
    ")\n",
    "\n",
    "train_images_with_noise = np.add(\n",
    "    train_images, np.random.random((len(train_images), 784))\n",
    ")\n",
    "\n",
    "train_images_with_zeros_channels = np.concatenate(\n",
    "    [train_images, np.zeros((len(train_images), 784))], axis=1\n",
    ")\n",
    "\n",
    "print(\n",
    "    f\"train_images shape:\\t{train_images.shape}\\ntest_images shape:\\t{test_images.shape}\"\n",
    ")\n",
    "\n",
    "\n",
    "def plot_digit(image_array):\n",
    "    image = image_array.reshape(28, 28)\n",
    "    plt.imshow(image, cmap=\"viridis\")\n",
    "    plt.axis(\"off\")\n",
    "\n",
    "\n",
    "plt.figure(figsize=(3, 3))\n",
    "for idx, image_data in enumerate(train_images[:25]):\n",
    "    plt.subplot(5, 5, idx + 1)\n",
    "    plot_digit(image_data)\n",
    "plt.subplots_adjust(wspace=0, hspace=0)\n",
    "plt.suptitle(\"Original Data\")\n",
    "plt.show()\n",
    "\n",
    "plt.figure(figsize=(3, 3))\n",
    "for idx, image_data in enumerate(train_images_with_noise[:25]):\n",
    "    plt.subplot(5, 5, idx + 1)\n",
    "    plot_digit(image_data)\n",
    "plt.subplots_adjust(wspace=0, hspace=0)\n",
    "plt.suptitle(\"Data With Noise\")\n",
    "plt.show()"
   ]
  },
  {
   "cell_type": "markdown",
   "metadata": {},
   "source": [
    "## 5.1.1 Underfitting and Overfitting\n",
    "Noisy features are prone to overfitting."
   ]
  },
  {
   "cell_type": "code",
   "execution_count": null,
   "metadata": {},
   "outputs": [
    {
     "ename": "",
     "evalue": "",
     "output_type": "error",
     "traceback": [
      "\u001b[1;31mThe kernel failed to start as the Python Environment '.venv (Python 3.11.9)' is no longer available. Consider selecting another kernel or refreshing the list of Python Environments."
     ]
    }
   ],
   "source": [
    "import keras\n",
    "from keras import layers\n",
    "\n",
    "import matplotlib as mpl\n",
    "import matplotlib.gridspec as gridspec\n",
    "\n",
    "mpl.rcParams[\"figure.facecolor\"] = \"darkgray\"\n",
    "mpl.rcParams[\"axes.facecolor\"] = \"white\"\n",
    "\n",
    "def get_model():\n",
    "    l1 = layers.Dense(512, activation=\"relu\")\n",
    "    outpt_layer = layers.Dense(10, activation=\"softmax\")\n",
    "\n",
    "    model = keras.Sequential()\n",
    "    model.add(l1)\n",
    "    model.add(outpt_layer)\n",
    "    model.compile(\n",
    "        optimizer=\"rmsprop\", loss=\"sparse_categorical_crossentropy\", metrics=[\"accuracy\"]\n",
    "    )\n",
    "    return model\n",
    "\n",
    "def fit_and_plot_results(model, x_train, y_train, n_epochs=20, batch_size=512, val_ratio=0.4, verbose=0, title=\"\", loss_only=False):\n",
    "    history = model.fit(\n",
    "        x_train,\n",
    "        y_train,\n",
    "        epochs=n_epochs,\n",
    "        batch_size=batch_size,\n",
    "        validation_split=val_ratio,\n",
    "        verbose=verbose,\n",
    "    )\n",
    "    history_dct = history.history\n",
    "\n",
    "    loss_values = history_dct[\"loss\"]\n",
    "    val_loss_values = history_dct[\"val_loss\"]\n",
    "    acc = history_dct[\"accuracy\"]\n",
    "    val_acc = history_dct[\"val_accuracy\"]\n",
    "    epochs = range(1, len(loss_values) + 1)\n",
    "\n",
    "    # Set up the figure and GridSpec\n",
    "    fig = plt.figure(figsize=(6, 8))\n",
    "    gs = gridspec.GridSpec(2, 1, height_ratios=[1, 1])\n",
    "\n",
    "    # First subplot (Training and validation loss)\n",
    "    ax0 = fig.add_subplot(gs[0])\n",
    "    ax0.plot(epochs, loss_values, \"bo\", label=\"Training Loss\")\n",
    "    ax0.plot(epochs, val_loss_values, \"r\", label=\"Validation Loss\")\n",
    "    ax0.set_title(\"Training and Validation Loss\")\n",
    "    ax0.set_xlabel(\"Epochs\")\n",
    "    ax0.set_ylabel(\"Loss\")\n",
    "    ax0.legend()\n",
    "\n",
    "    if not loss_only:\n",
    "        # Second subplot (Training and validation accuracy)\n",
    "        ax1 = fig.add_subplot(gs[1])\n",
    "        ax1.plot(epochs, acc, \"bo\", label=\"Training Accuracy\")\n",
    "        ax1.plot(epochs, val_acc, \"r\", label=\"Validation Accuracy\")\n",
    "        ax1.set_title(\"Training and Validation Accuracy\")\n",
    "        ax1.set_xlabel(\"Epochs\")\n",
    "        ax1.set_ylabel(\"Accuracy\")\n",
    "        ax1.legend()\n",
    "\n",
    "    fig.suptitle(title)\n",
    "    fig.tight_layout()\n",
    "\n",
    "    plt.show()\n",
    "\n",
    "fit_and_plot_results(model=get_model(), x_train=train_images_with_noise_channels, y_train=train_labels, n_epochs=10, batch_size=128, val_ratio=.2, verbose=0, title=\"noise channels\", loss_only=True)\n",
    "fit_and_plot_results(model=get_model(), x_train=train_images_with_zeros_channels, y_train=train_labels, n_epochs=10, batch_size=128, val_ratio=.2, verbose=0, title=\"zeros channels\", loss_only=True)"
   ]
  },
  {
   "cell_type": "code",
   "execution_count": null,
   "metadata": {},
   "outputs": [
    {
     "ename": "",
     "evalue": "",
     "output_type": "error",
     "traceback": [
      "\u001b[1;31mThe kernel failed to start as the Python Environment '.venv (Python 3.11.9)' is no longer available. Consider selecting another kernel or refreshing the list of Python Environments."
     ]
    }
   ],
   "source": [
    "import keras\n",
    "from keras import layers\n",
    "import matplotlib.pyplot as plt\n",
    "import matplotlib as mpl\n",
    "\n",
    "mpl.rcParams[\"figure.facecolor\"] = \"darkgray\"\n",
    "mpl.rcParams[\"axes.facecolor\"] = \"white\"\n",
    "\n",
    "def get_model():\n",
    "    l1 = layers.Dense(512, activation=\"relu\")\n",
    "    outpt_layer = layers.Dense(10, activation=\"softmax\")\n",
    "\n",
    "    model = keras.Sequential()\n",
    "    model.add(l1)\n",
    "    model.add(outpt_layer)\n",
    "    model.compile(\n",
    "        optimizer=\"rmsprop\", loss=\"sparse_categorical_crossentropy\", metrics=[\"accuracy\"]\n",
    "    )\n",
    "    return model\n",
    "\n",
    "def fit_and_plot_results(model, x_train, y_train, n_epochs=20, batch_size=512, val_ratio=0.4, verbose=0, title=\"\", loss_only=False, axes=None):\n",
    "    history = model.fit(\n",
    "        x_train,\n",
    "        y_train,\n",
    "        epochs=n_epochs,\n",
    "        batch_size=batch_size,\n",
    "        validation_split=val_ratio,\n",
    "        verbose=verbose,\n",
    "    )\n",
    "    history_dct = history.history\n",
    "\n",
    "    loss_values = history_dct[\"loss\"]\n",
    "    val_loss_values = history_dct[\"val_loss\"]\n",
    "    acc = history_dct[\"accuracy\"]\n",
    "    val_acc = history_dct[\"val_accuracy\"]\n",
    "    epochs = range(1, len(loss_values) + 1)\n",
    "\n",
    "    if axes is None:\n",
    "        fig, axes = plt.subplots(1 if loss_only else 2, 1, figsize=(6, 8))\n",
    "        fig.suptitle(title)\n",
    "        fig.tight_layout()\n",
    "\n",
    "    # First subplot (Training and validation loss)\n",
    "    axes[0].plot(epochs, loss_values, \"bo\", label=\"Training Loss\")\n",
    "    axes[0].plot(epochs, val_loss_values, \"r\", label=\"Validation Loss\")\n",
    "    axes[0].set_title(f\"{title} - Training and Validation Loss\")\n",
    "    axes[0].set_xlabel(\"Epochs\")\n",
    "    axes[0].set_ylabel(\"Loss\")\n",
    "    axes[0].legend()\n",
    "\n",
    "    if not loss_only:\n",
    "        # Second subplot (Training and validation accuracy)\n",
    "        axes[1].plot(epochs, acc, \"bo\", label=\"Training Accuracy\")\n",
    "        axes[1].plot(epochs, val_acc, \"r\", label=\"Validation Accuracy\")\n",
    "        axes[1].set_title(f\"{title} - Training and Validation Accuracy\")\n",
    "        axes[1].set_xlabel(\"Epochs\")\n",
    "        axes[1].set_ylabel(\"Accuracy\")\n",
    "        axes[1].legend()\n",
    "\n",
    "fig1, axes1 = plt.subplots(1, 2, figsize=(8, 5))\n",
    "fig1.suptitle(\"Model Comparisons\")\n",
    "\n",
    "# Model 1: Noise channels\n",
    "fit_and_plot_results(model=get_model(), x_train=train_images_with_noise_channels, y_train=train_labels, n_epochs=10, batch_size=128, val_ratio=.2, verbose=0, title=\"Noise Channels\", loss_only=True, axes=[axes1[0]])\n",
    "\n",
    "# Model 2: Zeros channels\n",
    "fit_and_plot_results(model=get_model(), x_train=train_images_with_zeros_channels, y_train=train_labels, n_epochs=10, batch_size=128, val_ratio=.2, verbose=0, title=\"Zeros Channels\", loss_only=True, axes=[axes1[1]])\n",
    "\n",
    "plt.show()\n"
   ]
  },
  {
   "cell_type": "markdown",
   "metadata": {},
   "source": [
    "# 5.3 Improving Model Fit\n",
    "## 5.3.1 Tuning Key Gradient Descent Parameters\n",
    "\n",
    "If model doesn't get started - or stalls too early, we can overcome it by changing gradient descent parameters. This is always true.\n",
    "If this happens try modifying learning rate or increasing batch size."
   ]
  },
  {
   "cell_type": "code",
   "execution_count": null,
   "metadata": {},
   "outputs": [
    {
     "ename": "",
     "evalue": "",
     "output_type": "error",
     "traceback": [
      "\u001b[1;31mThe kernel failed to start as the Python Environment '.venv (Python 3.11.9)' is no longer available. Consider selecting another kernel or refreshing the list of Python Environments."
     ]
    }
   ],
   "source": [
    "def get_model_rms_prop_change(learning_rate: float):\n",
    "    model = keras.Sequential([\n",
    "    layers.Dense(512, activation=\"relu\"),\n",
    "    layers.Dense(10, activation=\"softmax\")\n",
    "])\n",
    "    model.compile(optimizer=keras.optimizers.RMSprop(learning_rate),\n",
    "                loss=\"sparse_categorical_crossentropy\",\n",
    "                metrics=[\"accuracy\"])\n",
    "    return model\n",
    "\n",
    "fit_and_plot_results(model=get_model_rms_prop_change(learning_rate=1.), x_train=train_images, y_train=train_labels, n_epochs=10, batch_size=128, val_ratio=.2, verbose=0, title=\"Train model with learning rate 1\", loss_only=True)\n",
    "fit_and_plot_results(model=get_model_rms_prop_change(learning_rate=1e-2), x_train=train_images, y_train=train_labels, n_epochs=10, batch_size=128, val_ratio=.2, verbose=0, title=\"Train model with learning rate 1e-2\", loss_only=True)\n",
    "fit_and_plot_results(model=get_model_rms_prop_change(learning_rate=1e-2), x_train=train_images, y_train=train_labels, n_epochs=20, batch_size=128, val_ratio=.2, verbose=0, title=\"Train model with learning rate 1e-2 - overfitting\", loss_only=True)\n"
   ]
  },
  {
   "cell_type": "code",
   "execution_count": null,
   "metadata": {},
   "outputs": [
    {
     "ename": "",
     "evalue": "",
     "output_type": "error",
     "traceback": [
      "\u001b[1;31mThe kernel failed to start as the Python Environment '.venv (Python 3.11.9)' is no longer available. Consider selecting another kernel or refreshing the list of Python Environments."
     ]
    }
   ],
   "source": []
  }
 ],
 "metadata": {
  "kernelspec": {
   "display_name": ".venv",
   "language": "python",
   "name": "python3"
  },
  "language_info": {
   "codemirror_mode": {
    "name": "ipython",
    "version": 3
   },
   "file_extension": ".py",
   "mimetype": "text/x-python",
   "name": "python",
   "nbconvert_exporter": "python",
   "pygments_lexer": "ipython3",
   "version": "3.11.9"
  }
 },
 "nbformat": 4,
 "nbformat_minor": 2
}
